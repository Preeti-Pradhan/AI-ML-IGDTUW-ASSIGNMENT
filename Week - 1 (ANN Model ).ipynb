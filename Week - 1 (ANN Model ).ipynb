{
  "nbformat": 4,
  "nbformat_minor": 0,
  "metadata": {
    "kernelspec": {
      "display_name": "Python [conda env:root]",
      "language": "python",
      "name": "conda-root-py"
    },
    "colab": {
      "name": "Week - 1 ( ANN Model ).ipynb",
      "provenance": [],
      "collapsed_sections": []
    }
  },
  "cells": [
    {
      "cell_type": "markdown",
      "metadata": {
        "id": "OY-j27x4-Pr_"
      },
      "source": [
        "### Data Preprocessing"
      ]
    },
    {
      "cell_type": "code",
      "metadata": {
        "id": "ZOtrqhIP-YXl",
        "outputId": "3dfb028a-50fc-4cea-c980-a410635123e3",
        "colab": {
          "resources": {
            "http://localhost:8080/nbextensions/google.colab/files.js": {
              "data": "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",
              "ok": true,
              "headers": [
                [
                  "content-type",
                  "application/javascript"
                ]
              ],
              "status": 200,
              "status_text": ""
            }
          },
          "base_uri": "https://localhost:8080/",
          "height": 91
        }
      },
      "source": [
        "from google.colab import files\n",
        "\n",
        "uploaded = files.upload()\n",
        "\n",
        "for fn in uploaded.keys():\n",
        "  print('User uploaded file \"{name}\" with length {length} bytes'.format(\n",
        "      name=fn, length=len(uploaded[fn])))"
      ],
      "execution_count": 1,
      "outputs": [
        {
          "output_type": "display_data",
          "data": {
            "text/html": [
              "\n",
              "     <input type=\"file\" id=\"files-5c2179cd-54df-410a-8af7-f1c40d6333eb\" name=\"files[]\" multiple disabled\n",
              "        style=\"border:none\" />\n",
              "     <output id=\"result-5c2179cd-54df-410a-8af7-f1c40d6333eb\">\n",
              "      Upload widget is only available when the cell has been executed in the\n",
              "      current browser session. Please rerun this cell to enable.\n",
              "      </output>\n",
              "      <script src=\"/nbextensions/google.colab/files.js\"></script> "
            ],
            "text/plain": [
              "<IPython.core.display.HTML object>"
            ]
          },
          "metadata": {
            "tags": []
          }
        },
        {
          "output_type": "stream",
          "text": [
            "Saving car_purchasing_data.csv to car_purchasing_data.csv\n",
            "User uploaded file \"car_purchasing_data.csv\" with length 58338 bytes\n"
          ],
          "name": "stdout"
        }
      ]
    },
    {
      "cell_type": "code",
      "metadata": {
        "id": "xgfiWp6S-WjP",
        "outputId": "53c0edde-f398-4163-97f8-9d5fadb9e4f1",
        "colab": {
          "base_uri": "https://localhost:8080/",
          "height": 254
        }
      },
      "source": [
        "import chardet\n",
        "import pandas as pd\n",
        "file='car_purchasing_data.csv'\n",
        "with open(file,'rb') as rawdata:\n",
        "  result=chardet.detect(rawdata.read(100000))\n",
        "result\n",
        "df=pd.read_csv(file,encoding='ISO-8859-1',delimiter=',',quotechar='\"')\n",
        "df.head()"
      ],
      "execution_count": 3,
      "outputs": [
        {
          "output_type": "execute_result",
          "data": {
            "text/html": [
              "<div>\n",
              "<style scoped>\n",
              "    .dataframe tbody tr th:only-of-type {\n",
              "        vertical-align: middle;\n",
              "    }\n",
              "\n",
              "    .dataframe tbody tr th {\n",
              "        vertical-align: top;\n",
              "    }\n",
              "\n",
              "    .dataframe thead th {\n",
              "        text-align: right;\n",
              "    }\n",
              "</style>\n",
              "<table border=\"1\" class=\"dataframe\">\n",
              "  <thead>\n",
              "    <tr style=\"text-align: right;\">\n",
              "      <th></th>\n",
              "      <th>Customer Name</th>\n",
              "      <th>Customer e-mail</th>\n",
              "      <th>Country</th>\n",
              "      <th>Gender</th>\n",
              "      <th>Age</th>\n",
              "      <th>Annual Salary</th>\n",
              "      <th>Credit Card Debt</th>\n",
              "      <th>Net Worth</th>\n",
              "      <th>Car Purchase Amount</th>\n",
              "    </tr>\n",
              "  </thead>\n",
              "  <tbody>\n",
              "    <tr>\n",
              "      <th>0</th>\n",
              "      <td>Martina Avila</td>\n",
              "      <td>cubilia.Curae.Phasellus@quisaccumsanconvallis.edu</td>\n",
              "      <td>Bulgaria</td>\n",
              "      <td>0</td>\n",
              "      <td>41.851720</td>\n",
              "      <td>62812.09301</td>\n",
              "      <td>11609.380910</td>\n",
              "      <td>238961.2505</td>\n",
              "      <td>35321.45877</td>\n",
              "    </tr>\n",
              "    <tr>\n",
              "      <th>1</th>\n",
              "      <td>Harlan Barnes</td>\n",
              "      <td>eu.dolor@diam.co.uk</td>\n",
              "      <td>Belize</td>\n",
              "      <td>0</td>\n",
              "      <td>40.870623</td>\n",
              "      <td>66646.89292</td>\n",
              "      <td>9572.957136</td>\n",
              "      <td>530973.9078</td>\n",
              "      <td>45115.52566</td>\n",
              "    </tr>\n",
              "    <tr>\n",
              "      <th>2</th>\n",
              "      <td>Naomi Rodriquez</td>\n",
              "      <td>vulputate.mauris.sagittis@ametconsectetueradip...</td>\n",
              "      <td>Algeria</td>\n",
              "      <td>1</td>\n",
              "      <td>43.152897</td>\n",
              "      <td>53798.55112</td>\n",
              "      <td>11160.355060</td>\n",
              "      <td>638467.1773</td>\n",
              "      <td>42925.70921</td>\n",
              "    </tr>\n",
              "    <tr>\n",
              "      <th>3</th>\n",
              "      <td>Jade Cunningham</td>\n",
              "      <td>malesuada@dignissim.com</td>\n",
              "      <td>Cook Islands</td>\n",
              "      <td>1</td>\n",
              "      <td>58.271369</td>\n",
              "      <td>79370.03798</td>\n",
              "      <td>14426.164850</td>\n",
              "      <td>548599.0524</td>\n",
              "      <td>67422.36313</td>\n",
              "    </tr>\n",
              "    <tr>\n",
              "      <th>4</th>\n",
              "      <td>Cedric Leach</td>\n",
              "      <td>felis.ullamcorper.viverra@egetmollislectus.net</td>\n",
              "      <td>Brazil</td>\n",
              "      <td>1</td>\n",
              "      <td>57.313749</td>\n",
              "      <td>59729.15130</td>\n",
              "      <td>5358.712177</td>\n",
              "      <td>560304.0671</td>\n",
              "      <td>55915.46248</td>\n",
              "    </tr>\n",
              "  </tbody>\n",
              "</table>\n",
              "</div>"
            ],
            "text/plain": [
              "     Customer Name  ... Car Purchase Amount\n",
              "0    Martina Avila  ...         35321.45877\n",
              "1    Harlan Barnes  ...         45115.52566\n",
              "2  Naomi Rodriquez  ...         42925.70921\n",
              "3  Jade Cunningham  ...         67422.36313\n",
              "4     Cedric Leach  ...         55915.46248\n",
              "\n",
              "[5 rows x 9 columns]"
            ]
          },
          "metadata": {
            "tags": []
          },
          "execution_count": 3
        }
      ]
    },
    {
      "cell_type": "code",
      "metadata": {
        "id": "w9lwklWQ-PsB"
      },
      "source": [
        "# Importing the libraries\n",
        "import numpy as np\n",
        "import matplotlib.pyplot as plt"
      ],
      "execution_count": 4,
      "outputs": []
    },
    {
      "cell_type": "markdown",
      "metadata": {
        "id": "TIZ-2KcI-PsL"
      },
      "source": [
        "### Importing the dataset"
      ]
    },
    {
      "cell_type": "code",
      "metadata": {
        "id": "IXMnoo1m-PsU"
      },
      "source": [
        "Y=df[\"Car Purchase Amount\"]\n",
        "\n",
        "X=df[[\"Gender\" ,\"Age\",\"Annual Salary\",\"Credit Card Debt\",\"Net Worth\"]]\n"
      ],
      "execution_count": 5,
      "outputs": []
    },
    {
      "cell_type": "code",
      "metadata": {
        "id": "kTe6T3-I-Psb",
        "outputId": "3328a8c5-476c-4c5a-d0a9-db63f37daa68",
        "colab": {
          "base_uri": "https://localhost:8080/"
        }
      },
      "source": [
        "from sklearn.model_selection import train_test_split\n",
        "X_train, X_test, y_train, y_test = train_test_split(X, Y, test_size = 0.2, random_state = 465)\n",
        "\n",
        "print('Training Data Count: {}'.format(X_train.shape[0]))\n",
        "print('Testing Data Count: {}'.format(X_test.shape[0]))"
      ],
      "execution_count": 6,
      "outputs": [
        {
          "output_type": "stream",
          "text": [
            "Training Data Count: 400\n",
            "Testing Data Count: 100\n"
          ],
          "name": "stdout"
        }
      ]
    },
    {
      "cell_type": "markdown",
      "metadata": {
        "id": "Pf0WrWNV-Psk"
      },
      "source": [
        "### Feature Scaling"
      ]
    },
    {
      "cell_type": "code",
      "metadata": {
        "id": "UHjIl7Ix-Psk"
      },
      "source": [
        "from sklearn.preprocessing import StandardScaler\n",
        "sc = StandardScaler()\n",
        "X_train = sc.fit_transform(X_train)\n",
        "X_test = sc.transform(X_test)"
      ],
      "execution_count": 7,
      "outputs": []
    },
    {
      "cell_type": "markdown",
      "metadata": {
        "id": "B_zTUtCI-Pso"
      },
      "source": [
        "### Now let’s make the ANN!"
      ]
    },
    {
      "cell_type": "code",
      "metadata": {
        "id": "i6-uRB5e-Psp",
        "outputId": "9b374070-4d33-4f4f-c208-f219777cc3c9",
        "colab": {
          "base_uri": "https://localhost:8080/"
        }
      },
      "source": [
        "!pip install keras \n",
        "import keras\n",
        "from keras.models import Sequential\n",
        "from keras.layers import Dense\n",
        "classifier = Sequential()"
      ],
      "execution_count": 8,
      "outputs": [
        {
          "output_type": "stream",
          "text": [
            "Requirement already satisfied: keras in /usr/local/lib/python3.6/dist-packages (2.4.3)\n",
            "Requirement already satisfied: scipy>=0.14 in /usr/local/lib/python3.6/dist-packages (from keras) (1.4.1)\n",
            "Requirement already satisfied: numpy>=1.9.1 in /usr/local/lib/python3.6/dist-packages (from keras) (1.18.5)\n",
            "Requirement already satisfied: h5py in /usr/local/lib/python3.6/dist-packages (from keras) (2.10.0)\n",
            "Requirement already satisfied: pyyaml in /usr/local/lib/python3.6/dist-packages (from keras) (3.13)\n",
            "Requirement already satisfied: six in /usr/local/lib/python3.6/dist-packages (from h5py->keras) (1.15.0)\n"
          ],
          "name": "stdout"
        }
      ]
    },
    {
      "cell_type": "code",
      "metadata": {
        "id": "jS0OUYzMBUYc"
      },
      "source": [
        "classifier.add(Dense(3,kernel_initializer = 'glorot_uniform', activation = 'relu', input_dim = 5))"
      ],
      "execution_count": 9,
      "outputs": []
    },
    {
      "cell_type": "code",
      "metadata": {
        "id": "Dg7z2X3R-Pss"
      },
      "source": [
        "classifier.add(Dense(3, kernel_initializer = 'glorot_uniform', activation = 'relu'))"
      ],
      "execution_count": 10,
      "outputs": []
    },
    {
      "cell_type": "code",
      "metadata": {
        "id": "U5pP1HqW-Psw"
      },
      "source": [
        "classifier.add(Dense(1, kernel_initializer = 'glorot_uniform', activation = 'sigmoid'))"
      ],
      "execution_count": 11,
      "outputs": []
    },
    {
      "cell_type": "code",
      "metadata": {
        "id": "Q4AlQFzJ-Psz"
      },
      "source": [
        "classifier.compile(optimizer = 'Adam', loss = 'binary_crossentropy', metrics = ['accuracy'])"
      ],
      "execution_count": 12,
      "outputs": []
    },
    {
      "cell_type": "markdown",
      "metadata": {
        "id": "Ls8154ah-Ps3"
      },
      "source": [
        "### Fitting the ANN to the Training set\n"
      ]
    },
    {
      "cell_type": "code",
      "metadata": {
        "id": "GoeUcNijFMxS",
        "outputId": "d043a69c-1260-46f5-aa8b-a3ccc045a703",
        "colab": {
          "base_uri": "https://localhost:8080/"
        }
      },
      "source": [
        "classifier.fit(X_train, y_train, batch_size = 100, epochs = 200)"
      ],
      "execution_count": 13,
      "outputs": [
        {
          "output_type": "stream",
          "text": [
            "Epoch 1/200\n",
            "4/4 [==============================] - 0s 2ms/step - loss: -5350.7974 - accuracy: 0.0000e+00\n",
            "Epoch 2/200\n",
            "4/4 [==============================] - 0s 2ms/step - loss: -6342.6069 - accuracy: 0.0000e+00\n",
            "Epoch 3/200\n",
            "4/4 [==============================] - 0s 2ms/step - loss: -7314.2783 - accuracy: 0.0000e+00\n",
            "Epoch 4/200\n",
            "4/4 [==============================] - 0s 2ms/step - loss: -8233.2910 - accuracy: 0.0000e+00\n",
            "Epoch 5/200\n",
            "4/4 [==============================] - 0s 2ms/step - loss: -9215.9990 - accuracy: 0.0000e+00\n",
            "Epoch 6/200\n",
            "4/4 [==============================] - 0s 1ms/step - loss: -10169.2715 - accuracy: 0.0000e+00\n",
            "Epoch 7/200\n",
            "4/4 [==============================] - 0s 1ms/step - loss: -11153.2461 - accuracy: 0.0000e+00\n",
            "Epoch 8/200\n",
            "4/4 [==============================] - 0s 1ms/step - loss: -12116.3135 - accuracy: 0.0000e+00\n",
            "Epoch 9/200\n",
            "4/4 [==============================] - 0s 2ms/step - loss: -13126.8438 - accuracy: 0.0000e+00\n",
            "Epoch 10/200\n",
            "4/4 [==============================] - 0s 2ms/step - loss: -14119.8203 - accuracy: 0.0000e+00\n",
            "Epoch 11/200\n",
            "4/4 [==============================] - 0s 2ms/step - loss: -15142.7773 - accuracy: 0.0000e+00\n",
            "Epoch 12/200\n",
            "4/4 [==============================] - 0s 2ms/step - loss: -16158.3447 - accuracy: 0.0000e+00\n",
            "Epoch 13/200\n",
            "4/4 [==============================] - 0s 2ms/step - loss: -17190.0430 - accuracy: 0.0000e+00\n",
            "Epoch 14/200\n",
            "4/4 [==============================] - 0s 3ms/step - loss: -18252.0859 - accuracy: 0.0000e+00\n",
            "Epoch 15/200\n",
            "4/4 [==============================] - 0s 3ms/step - loss: -19298.6621 - accuracy: 0.0000e+00\n",
            "Epoch 16/200\n",
            "4/4 [==============================] - 0s 2ms/step - loss: -20363.3691 - accuracy: 0.0000e+00\n",
            "Epoch 17/200\n",
            "4/4 [==============================] - 0s 2ms/step - loss: -21473.6016 - accuracy: 0.0000e+00\n",
            "Epoch 18/200\n",
            "4/4 [==============================] - 0s 2ms/step - loss: -22562.0859 - accuracy: 0.0000e+00\n",
            "Epoch 19/200\n",
            "4/4 [==============================] - 0s 2ms/step - loss: -23718.9902 - accuracy: 0.0000e+00\n",
            "Epoch 20/200\n",
            "4/4 [==============================] - 0s 2ms/step - loss: -24840.0352 - accuracy: 0.0000e+00\n",
            "Epoch 21/200\n",
            "4/4 [==============================] - 0s 2ms/step - loss: -26008.1348 - accuracy: 0.0000e+00\n",
            "Epoch 22/200\n",
            "4/4 [==============================] - 0s 2ms/step - loss: -27168.5156 - accuracy: 0.0000e+00\n",
            "Epoch 23/200\n",
            "4/4 [==============================] - 0s 1ms/step - loss: -28393.1953 - accuracy: 0.0000e+00\n",
            "Epoch 24/200\n",
            "4/4 [==============================] - 0s 3ms/step - loss: -29580.5352 - accuracy: 0.0000e+00\n",
            "Epoch 25/200\n",
            "4/4 [==============================] - 0s 2ms/step - loss: -30812.4844 - accuracy: 0.0000e+00\n",
            "Epoch 26/200\n",
            "4/4 [==============================] - 0s 3ms/step - loss: -32060.9375 - accuracy: 0.0000e+00\n",
            "Epoch 27/200\n",
            "4/4 [==============================] - 0s 2ms/step - loss: -33320.6133 - accuracy: 0.0000e+00\n",
            "Epoch 28/200\n",
            "4/4 [==============================] - 0s 2ms/step - loss: -34613.8672 - accuracy: 0.0000e+00\n",
            "Epoch 29/200\n",
            "4/4 [==============================] - 0s 2ms/step - loss: -35933.4570 - accuracy: 0.0000e+00\n",
            "Epoch 30/200\n",
            "4/4 [==============================] - 0s 2ms/step - loss: -37285.9492 - accuracy: 0.0000e+00\n",
            "Epoch 31/200\n",
            "4/4 [==============================] - 0s 2ms/step - loss: -38613.1367 - accuracy: 0.0000e+00\n",
            "Epoch 32/200\n",
            "4/4 [==============================] - 0s 2ms/step - loss: -40008.6484 - accuracy: 0.0000e+00\n",
            "Epoch 33/200\n",
            "4/4 [==============================] - 0s 2ms/step - loss: -41361.4844 - accuracy: 0.0000e+00\n",
            "Epoch 34/200\n",
            "4/4 [==============================] - 0s 2ms/step - loss: -42849.6289 - accuracy: 0.0000e+00\n",
            "Epoch 35/200\n",
            "4/4 [==============================] - 0s 2ms/step - loss: -44290.7461 - accuracy: 0.0000e+00\n",
            "Epoch 36/200\n",
            "4/4 [==============================] - 0s 1ms/step - loss: -45754.8789 - accuracy: 0.0000e+00\n",
            "Epoch 37/200\n",
            "4/4 [==============================] - 0s 2ms/step - loss: -47238.8711 - accuracy: 0.0000e+00\n",
            "Epoch 38/200\n",
            "4/4 [==============================] - 0s 2ms/step - loss: -48769.5781 - accuracy: 0.0000e+00\n",
            "Epoch 39/200\n",
            "4/4 [==============================] - 0s 2ms/step - loss: -50337.6641 - accuracy: 0.0000e+00\n",
            "Epoch 40/200\n",
            "4/4 [==============================] - 0s 2ms/step - loss: -51870.7695 - accuracy: 0.0000e+00\n",
            "Epoch 41/200\n",
            "4/4 [==============================] - 0s 2ms/step - loss: -53486.3945 - accuracy: 0.0000e+00\n",
            "Epoch 42/200\n",
            "4/4 [==============================] - 0s 3ms/step - loss: -55133.9531 - accuracy: 0.0000e+00\n",
            "Epoch 43/200\n",
            "4/4 [==============================] - 0s 2ms/step - loss: -56802.6406 - accuracy: 0.0000e+00\n",
            "Epoch 44/200\n",
            "4/4 [==============================] - 0s 2ms/step - loss: -58469.9609 - accuracy: 0.0000e+00\n",
            "Epoch 45/200\n",
            "4/4 [==============================] - 0s 2ms/step - loss: -60174.8516 - accuracy: 0.0000e+00\n",
            "Epoch 46/200\n",
            "4/4 [==============================] - 0s 1ms/step - loss: -61918.1602 - accuracy: 0.0000e+00\n",
            "Epoch 47/200\n",
            "4/4 [==============================] - 0s 2ms/step - loss: -63649.4492 - accuracy: 0.0000e+00\n",
            "Epoch 48/200\n",
            "4/4 [==============================] - 0s 2ms/step - loss: -65452.6914 - accuracy: 0.0000e+00\n",
            "Epoch 49/200\n",
            "4/4 [==============================] - 0s 3ms/step - loss: -67287.5312 - accuracy: 0.0000e+00\n",
            "Epoch 50/200\n",
            "4/4 [==============================] - 0s 2ms/step - loss: -69160.9219 - accuracy: 0.0000e+00\n",
            "Epoch 51/200\n",
            "4/4 [==============================] - 0s 2ms/step - loss: -71043.6719 - accuracy: 0.0000e+00\n",
            "Epoch 52/200\n",
            "4/4 [==============================] - 0s 2ms/step - loss: -72959.5000 - accuracy: 0.0000e+00\n",
            "Epoch 53/200\n",
            "4/4 [==============================] - 0s 2ms/step - loss: -74979.1016 - accuracy: 0.0000e+00\n",
            "Epoch 54/200\n",
            "4/4 [==============================] - 0s 1ms/step - loss: -76930.5469 - accuracy: 0.0000e+00\n",
            "Epoch 55/200\n",
            "4/4 [==============================] - 0s 2ms/step - loss: -79013.1094 - accuracy: 0.0000e+00\n",
            "Epoch 56/200\n",
            "4/4 [==============================] - 0s 2ms/step - loss: -81078.1484 - accuracy: 0.0000e+00\n",
            "Epoch 57/200\n",
            "4/4 [==============================] - 0s 2ms/step - loss: -83190.9766 - accuracy: 0.0000e+00\n",
            "Epoch 58/200\n",
            "4/4 [==============================] - 0s 2ms/step - loss: -85324.3594 - accuracy: 0.0000e+00\n",
            "Epoch 59/200\n",
            "4/4 [==============================] - 0s 2ms/step - loss: -87414.4062 - accuracy: 0.0000e+00\n",
            "Epoch 60/200\n",
            "4/4 [==============================] - 0s 2ms/step - loss: -89707.7578 - accuracy: 0.0000e+00\n",
            "Epoch 61/200\n",
            "4/4 [==============================] - 0s 2ms/step - loss: -91963.3984 - accuracy: 0.0000e+00\n",
            "Epoch 62/200\n",
            "4/4 [==============================] - 0s 2ms/step - loss: -94241.1016 - accuracy: 0.0000e+00\n",
            "Epoch 63/200\n",
            "4/4 [==============================] - 0s 2ms/step - loss: -96504.6406 - accuracy: 0.0000e+00\n",
            "Epoch 64/200\n",
            "4/4 [==============================] - 0s 2ms/step - loss: -98898.8203 - accuracy: 0.0000e+00\n",
            "Epoch 65/200\n",
            "4/4 [==============================] - 0s 2ms/step - loss: -101322.5234 - accuracy: 0.0000e+00\n",
            "Epoch 66/200\n",
            "4/4 [==============================] - 0s 2ms/step - loss: -103717.7734 - accuracy: 0.0000e+00\n",
            "Epoch 67/200\n",
            "4/4 [==============================] - 0s 2ms/step - loss: -106224.6094 - accuracy: 0.0000e+00\n",
            "Epoch 68/200\n",
            "4/4 [==============================] - 0s 2ms/step - loss: -108677.4609 - accuracy: 0.0000e+00\n",
            "Epoch 69/200\n",
            "4/4 [==============================] - 0s 2ms/step - loss: -111277.2188 - accuracy: 0.0000e+00\n",
            "Epoch 70/200\n",
            "4/4 [==============================] - 0s 2ms/step - loss: -113831.6484 - accuracy: 0.0000e+00\n",
            "Epoch 71/200\n",
            "4/4 [==============================] - 0s 2ms/step - loss: -116459.0781 - accuracy: 0.0000e+00\n",
            "Epoch 72/200\n",
            "4/4 [==============================] - 0s 2ms/step - loss: -119083.4609 - accuracy: 0.0000e+00\n",
            "Epoch 73/200\n",
            "4/4 [==============================] - 0s 2ms/step - loss: -121840.8203 - accuracy: 0.0000e+00\n",
            "Epoch 74/200\n",
            "4/4 [==============================] - 0s 2ms/step - loss: -124601.4297 - accuracy: 0.0000e+00\n",
            "Epoch 75/200\n",
            "4/4 [==============================] - 0s 2ms/step - loss: -127338.7188 - accuracy: 0.0000e+00\n",
            "Epoch 76/200\n",
            "4/4 [==============================] - 0s 2ms/step - loss: -130207.0703 - accuracy: 0.0000e+00\n",
            "Epoch 77/200\n",
            "4/4 [==============================] - 0s 2ms/step - loss: -133021.8594 - accuracy: 0.0000e+00\n",
            "Epoch 78/200\n",
            "4/4 [==============================] - 0s 2ms/step - loss: -135976.8125 - accuracy: 0.0000e+00\n",
            "Epoch 79/200\n",
            "4/4 [==============================] - 0s 2ms/step - loss: -138910.4531 - accuracy: 0.0000e+00\n",
            "Epoch 80/200\n",
            "4/4 [==============================] - 0s 2ms/step - loss: -141961.2969 - accuracy: 0.0000e+00\n",
            "Epoch 81/200\n",
            "4/4 [==============================] - 0s 2ms/step - loss: -144987.7031 - accuracy: 0.0000e+00\n",
            "Epoch 82/200\n",
            "4/4 [==============================] - 0s 2ms/step - loss: -148124.7344 - accuracy: 0.0000e+00\n",
            "Epoch 83/200\n",
            "4/4 [==============================] - 0s 2ms/step - loss: -151266.0938 - accuracy: 0.0000e+00\n",
            "Epoch 84/200\n",
            "4/4 [==============================] - 0s 2ms/step - loss: -154451.7656 - accuracy: 0.0000e+00\n",
            "Epoch 85/200\n",
            "4/4 [==============================] - 0s 2ms/step - loss: -157731.0938 - accuracy: 0.0000e+00\n",
            "Epoch 86/200\n",
            "4/4 [==============================] - 0s 1ms/step - loss: -161047.2656 - accuracy: 0.0000e+00\n",
            "Epoch 87/200\n",
            "4/4 [==============================] - 0s 2ms/step - loss: -164362.0938 - accuracy: 0.0000e+00\n",
            "Epoch 88/200\n",
            "4/4 [==============================] - 0s 2ms/step - loss: -167722.2812 - accuracy: 0.0000e+00\n",
            "Epoch 89/200\n",
            "4/4 [==============================] - 0s 2ms/step - loss: -171221.7812 - accuracy: 0.0000e+00\n",
            "Epoch 90/200\n",
            "4/4 [==============================] - 0s 2ms/step - loss: -174738.4219 - accuracy: 0.0000e+00\n",
            "Epoch 91/200\n",
            "4/4 [==============================] - 0s 2ms/step - loss: -178290.9062 - accuracy: 0.0000e+00\n",
            "Epoch 92/200\n",
            "4/4 [==============================] - 0s 2ms/step - loss: -181799.0000 - accuracy: 0.0000e+00\n",
            "Epoch 93/200\n",
            "4/4 [==============================] - 0s 2ms/step - loss: -185474.8594 - accuracy: 0.0000e+00\n",
            "Epoch 94/200\n",
            "4/4 [==============================] - 0s 2ms/step - loss: -189128.7031 - accuracy: 0.0000e+00\n",
            "Epoch 95/200\n",
            "4/4 [==============================] - 0s 2ms/step - loss: -192843.7188 - accuracy: 0.0000e+00\n",
            "Epoch 96/200\n",
            "4/4 [==============================] - 0s 2ms/step - loss: -196648.0781 - accuracy: 0.0000e+00\n",
            "Epoch 97/200\n",
            "4/4 [==============================] - 0s 2ms/step - loss: -200516.1250 - accuracy: 0.0000e+00\n",
            "Epoch 98/200\n",
            "4/4 [==============================] - 0s 2ms/step - loss: -204495.6406 - accuracy: 0.0000e+00\n",
            "Epoch 99/200\n",
            "4/4 [==============================] - 0s 2ms/step - loss: -208372.2344 - accuracy: 0.0000e+00\n",
            "Epoch 100/200\n",
            "4/4 [==============================] - 0s 2ms/step - loss: -212335.0781 - accuracy: 0.0000e+00\n",
            "Epoch 101/200\n",
            "4/4 [==============================] - 0s 2ms/step - loss: -216460.2188 - accuracy: 0.0000e+00\n",
            "Epoch 102/200\n",
            "4/4 [==============================] - 0s 2ms/step - loss: -220539.4375 - accuracy: 0.0000e+00\n",
            "Epoch 103/200\n",
            "4/4 [==============================] - 0s 2ms/step - loss: -224658.0000 - accuracy: 0.0000e+00\n",
            "Epoch 104/200\n",
            "4/4 [==============================] - 0s 2ms/step - loss: -228872.7188 - accuracy: 0.0000e+00\n",
            "Epoch 105/200\n",
            "4/4 [==============================] - 0s 4ms/step - loss: -233186.1562 - accuracy: 0.0000e+00\n",
            "Epoch 106/200\n",
            "4/4 [==============================] - 0s 2ms/step - loss: -237543.2969 - accuracy: 0.0000e+00\n",
            "Epoch 107/200\n",
            "4/4 [==============================] - 0s 2ms/step - loss: -241891.9531 - accuracy: 0.0000e+00\n",
            "Epoch 108/200\n",
            "4/4 [==============================] - 0s 2ms/step - loss: -246314.6250 - accuracy: 0.0000e+00\n",
            "Epoch 109/200\n",
            "4/4 [==============================] - 0s 2ms/step - loss: -250874.6406 - accuracy: 0.0000e+00\n",
            "Epoch 110/200\n",
            "4/4 [==============================] - 0s 2ms/step - loss: -255274.2656 - accuracy: 0.0000e+00\n",
            "Epoch 111/200\n",
            "4/4 [==============================] - 0s 2ms/step - loss: -260030.2656 - accuracy: 0.0000e+00\n",
            "Epoch 112/200\n",
            "4/4 [==============================] - 0s 2ms/step - loss: -264733.1250 - accuracy: 0.0000e+00\n",
            "Epoch 113/200\n",
            "4/4 [==============================] - 0s 2ms/step - loss: -269509.3438 - accuracy: 0.0000e+00\n",
            "Epoch 114/200\n",
            "4/4 [==============================] - 0s 2ms/step - loss: -274419.9688 - accuracy: 0.0000e+00\n",
            "Epoch 115/200\n",
            "4/4 [==============================] - 0s 2ms/step - loss: -279162.3125 - accuracy: 0.0000e+00\n",
            "Epoch 116/200\n",
            "4/4 [==============================] - 0s 2ms/step - loss: -284165.5312 - accuracy: 0.0000e+00\n",
            "Epoch 117/200\n",
            "4/4 [==============================] - 0s 2ms/step - loss: -289230.1250 - accuracy: 0.0000e+00\n",
            "Epoch 118/200\n",
            "4/4 [==============================] - 0s 2ms/step - loss: -294408.9062 - accuracy: 0.0000e+00\n",
            "Epoch 119/200\n",
            "4/4 [==============================] - 0s 2ms/step - loss: -299556.0312 - accuracy: 0.0000e+00\n",
            "Epoch 120/200\n",
            "4/4 [==============================] - 0s 2ms/step - loss: -304803.7500 - accuracy: 0.0000e+00\n",
            "Epoch 121/200\n",
            "4/4 [==============================] - 0s 2ms/step - loss: -310172.8125 - accuracy: 0.0000e+00\n",
            "Epoch 122/200\n",
            "4/4 [==============================] - 0s 2ms/step - loss: -315780.2500 - accuracy: 0.0000e+00\n",
            "Epoch 123/200\n",
            "4/4 [==============================] - 0s 2ms/step - loss: -321445.9688 - accuracy: 0.0000e+00\n",
            "Epoch 124/200\n",
            "4/4 [==============================] - 0s 2ms/step - loss: -327187.9375 - accuracy: 0.0000e+00\n",
            "Epoch 125/200\n",
            "4/4 [==============================] - 0s 2ms/step - loss: -332914.9375 - accuracy: 0.0000e+00\n",
            "Epoch 126/200\n",
            "4/4 [==============================] - 0s 3ms/step - loss: -339217.8438 - accuracy: 0.0000e+00\n",
            "Epoch 127/200\n",
            "4/4 [==============================] - 0s 2ms/step - loss: -345311.8438 - accuracy: 0.0000e+00\n",
            "Epoch 128/200\n",
            "4/4 [==============================] - 0s 2ms/step - loss: -351753.4375 - accuracy: 0.0000e+00\n",
            "Epoch 129/200\n",
            "4/4 [==============================] - 0s 3ms/step - loss: -358426.6250 - accuracy: 0.0000e+00\n",
            "Epoch 130/200\n",
            "4/4 [==============================] - 0s 5ms/step - loss: -365387.1562 - accuracy: 0.0000e+00\n",
            "Epoch 131/200\n",
            "4/4 [==============================] - 0s 2ms/step - loss: -372525.2812 - accuracy: 0.0000e+00\n",
            "Epoch 132/200\n",
            "4/4 [==============================] - 0s 2ms/step - loss: -379853.6875 - accuracy: 0.0000e+00\n",
            "Epoch 133/200\n",
            "4/4 [==============================] - 0s 2ms/step - loss: -387499.0312 - accuracy: 0.0000e+00\n",
            "Epoch 134/200\n",
            "4/4 [==============================] - 0s 2ms/step - loss: -395259.8438 - accuracy: 0.0000e+00\n",
            "Epoch 135/200\n",
            "4/4 [==============================] - 0s 2ms/step - loss: -402955.9688 - accuracy: 0.0000e+00\n",
            "Epoch 136/200\n",
            "4/4 [==============================] - 0s 2ms/step - loss: -411011.1562 - accuracy: 0.0000e+00\n",
            "Epoch 137/200\n",
            "4/4 [==============================] - 0s 2ms/step - loss: -419020.9688 - accuracy: 0.0000e+00\n",
            "Epoch 138/200\n",
            "4/4 [==============================] - 0s 1ms/step - loss: -427290.0000 - accuracy: 0.0000e+00\n",
            "Epoch 139/200\n",
            "4/4 [==============================] - 0s 2ms/step - loss: -435825.8750 - accuracy: 0.0000e+00\n",
            "Epoch 140/200\n",
            "4/4 [==============================] - 0s 2ms/step - loss: -444396.4688 - accuracy: 0.0000e+00\n",
            "Epoch 141/200\n",
            "4/4 [==============================] - 0s 2ms/step - loss: -453162.9062 - accuracy: 0.0000e+00\n",
            "Epoch 142/200\n",
            "4/4 [==============================] - 0s 2ms/step - loss: -461953.3750 - accuracy: 0.0000e+00\n",
            "Epoch 143/200\n",
            "4/4 [==============================] - 0s 2ms/step - loss: -471044.8750 - accuracy: 0.0000e+00\n",
            "Epoch 144/200\n",
            "4/4 [==============================] - 0s 2ms/step - loss: -480252.5938 - accuracy: 0.0000e+00\n",
            "Epoch 145/200\n",
            "4/4 [==============================] - 0s 2ms/step - loss: -489468.4375 - accuracy: 0.0000e+00\n",
            "Epoch 146/200\n",
            "4/4 [==============================] - 0s 2ms/step - loss: -499249.2812 - accuracy: 0.0000e+00\n",
            "Epoch 147/200\n",
            "4/4 [==============================] - 0s 2ms/step - loss: -508824.6875 - accuracy: 0.0000e+00\n",
            "Epoch 148/200\n",
            "4/4 [==============================] - 0s 2ms/step - loss: -518739.7500 - accuracy: 0.0000e+00\n",
            "Epoch 149/200\n",
            "4/4 [==============================] - 0s 2ms/step - loss: -528872.6250 - accuracy: 0.0000e+00\n",
            "Epoch 150/200\n",
            "4/4 [==============================] - 0s 2ms/step - loss: -539137.4375 - accuracy: 0.0000e+00\n",
            "Epoch 151/200\n",
            "4/4 [==============================] - 0s 2ms/step - loss: -549408.6250 - accuracy: 0.0000e+00\n",
            "Epoch 152/200\n",
            "4/4 [==============================] - 0s 2ms/step - loss: -560245.5625 - accuracy: 0.0000e+00\n",
            "Epoch 153/200\n",
            "4/4 [==============================] - 0s 2ms/step - loss: -571016.6250 - accuracy: 0.0000e+00\n",
            "Epoch 154/200\n",
            "4/4 [==============================] - 0s 2ms/step - loss: -582009.9375 - accuracy: 0.0000e+00\n",
            "Epoch 155/200\n",
            "4/4 [==============================] - 0s 2ms/step - loss: -593166.9375 - accuracy: 0.0000e+00\n",
            "Epoch 156/200\n",
            "4/4 [==============================] - 0s 2ms/step - loss: -604402.5000 - accuracy: 0.0000e+00\n",
            "Epoch 157/200\n",
            "4/4 [==============================] - 0s 2ms/step - loss: -616138.8125 - accuracy: 0.0000e+00\n",
            "Epoch 158/200\n",
            "4/4 [==============================] - 0s 2ms/step - loss: -627707.5625 - accuracy: 0.0000e+00\n",
            "Epoch 159/200\n",
            "4/4 [==============================] - 0s 1ms/step - loss: -639636.1875 - accuracy: 0.0000e+00\n",
            "Epoch 160/200\n",
            "4/4 [==============================] - 0s 2ms/step - loss: -651825.9375 - accuracy: 0.0000e+00\n",
            "Epoch 161/200\n",
            "4/4 [==============================] - 0s 2ms/step - loss: -664069.2500 - accuracy: 0.0000e+00\n",
            "Epoch 162/200\n",
            "4/4 [==============================] - 0s 2ms/step - loss: -676818.5625 - accuracy: 0.0000e+00\n",
            "Epoch 163/200\n",
            "4/4 [==============================] - 0s 2ms/step - loss: -689348.3125 - accuracy: 0.0000e+00\n",
            "Epoch 164/200\n",
            "4/4 [==============================] - 0s 2ms/step - loss: -702529.1875 - accuracy: 0.0000e+00\n",
            "Epoch 165/200\n",
            "4/4 [==============================] - 0s 2ms/step - loss: -715436.6250 - accuracy: 0.0000e+00\n",
            "Epoch 166/200\n",
            "4/4 [==============================] - 0s 2ms/step - loss: -728801.4375 - accuracy: 0.0000e+00\n",
            "Epoch 167/200\n",
            "4/4 [==============================] - 0s 2ms/step - loss: -742372.3750 - accuracy: 0.0000e+00\n",
            "Epoch 168/200\n",
            "4/4 [==============================] - 0s 2ms/step - loss: -755967.7500 - accuracy: 0.0000e+00\n",
            "Epoch 169/200\n",
            "4/4 [==============================] - 0s 2ms/step - loss: -769773.1875 - accuracy: 0.0000e+00\n",
            "Epoch 170/200\n",
            "4/4 [==============================] - 0s 2ms/step - loss: -783725.1875 - accuracy: 0.0000e+00\n",
            "Epoch 171/200\n",
            "4/4 [==============================] - 0s 2ms/step - loss: -798186.5625 - accuracy: 0.0000e+00\n",
            "Epoch 172/200\n",
            "4/4 [==============================] - 0s 2ms/step - loss: -812981.9375 - accuracy: 0.0000e+00\n",
            "Epoch 173/200\n",
            "4/4 [==============================] - 0s 2ms/step - loss: -827577.7500 - accuracy: 0.0000e+00\n",
            "Epoch 174/200\n",
            "4/4 [==============================] - 0s 2ms/step - loss: -842512.8750 - accuracy: 0.0000e+00\n",
            "Epoch 175/200\n",
            "4/4 [==============================] - 0s 2ms/step - loss: -857787.5000 - accuracy: 0.0000e+00\n",
            "Epoch 176/200\n",
            "4/4 [==============================] - 0s 2ms/step - loss: -873027.1875 - accuracy: 0.0000e+00\n",
            "Epoch 177/200\n",
            "4/4 [==============================] - 0s 1ms/step - loss: -888453.4375 - accuracy: 0.0000e+00\n",
            "Epoch 178/200\n",
            "4/4 [==============================] - 0s 2ms/step - loss: -904278.7500 - accuracy: 0.0000e+00\n",
            "Epoch 179/200\n",
            "4/4 [==============================] - 0s 2ms/step - loss: -920326.0000 - accuracy: 0.0000e+00\n",
            "Epoch 180/200\n",
            "4/4 [==============================] - 0s 2ms/step - loss: -936611.6875 - accuracy: 0.0000e+00\n",
            "Epoch 181/200\n",
            "4/4 [==============================] - 0s 2ms/step - loss: -952907.3750 - accuracy: 0.0000e+00\n",
            "Epoch 182/200\n",
            "4/4 [==============================] - 0s 2ms/step - loss: -969509.2500 - accuracy: 0.0000e+00\n",
            "Epoch 183/200\n",
            "4/4 [==============================] - 0s 2ms/step - loss: -986157.3750 - accuracy: 0.0000e+00\n",
            "Epoch 184/200\n",
            "4/4 [==============================] - 0s 2ms/step - loss: -1003408.0000 - accuracy: 0.0000e+00\n",
            "Epoch 185/200\n",
            "4/4 [==============================] - 0s 2ms/step - loss: -1020557.8125 - accuracy: 0.0000e+00\n",
            "Epoch 186/200\n",
            "4/4 [==============================] - 0s 2ms/step - loss: -1037986.0000 - accuracy: 0.0000e+00\n",
            "Epoch 187/200\n",
            "4/4 [==============================] - 0s 2ms/step - loss: -1055337.1250 - accuracy: 0.0000e+00\n",
            "Epoch 188/200\n",
            "4/4 [==============================] - 0s 2ms/step - loss: -1073159.3750 - accuracy: 0.0000e+00\n",
            "Epoch 189/200\n",
            "4/4 [==============================] - 0s 2ms/step - loss: -1091378.0000 - accuracy: 0.0000e+00\n",
            "Epoch 190/200\n",
            "4/4 [==============================] - 0s 3ms/step - loss: -1109937.5000 - accuracy: 0.0000e+00\n",
            "Epoch 191/200\n",
            "4/4 [==============================] - 0s 2ms/step - loss: -1128446.0000 - accuracy: 0.0000e+00\n",
            "Epoch 192/200\n",
            "4/4 [==============================] - 0s 2ms/step - loss: -1147035.7500 - accuracy: 0.0000e+00\n",
            "Epoch 193/200\n",
            "4/4 [==============================] - 0s 2ms/step - loss: -1165787.8750 - accuracy: 0.0000e+00\n",
            "Epoch 194/200\n",
            "4/4 [==============================] - 0s 2ms/step - loss: -1185036.2500 - accuracy: 0.0000e+00\n",
            "Epoch 195/200\n",
            "4/4 [==============================] - 0s 2ms/step - loss: -1204502.5000 - accuracy: 0.0000e+00\n",
            "Epoch 196/200\n",
            "4/4 [==============================] - 0s 2ms/step - loss: -1223952.3750 - accuracy: 0.0000e+00\n",
            "Epoch 197/200\n",
            "4/4 [==============================] - 0s 4ms/step - loss: -1243958.8750 - accuracy: 0.0000e+00\n",
            "Epoch 198/200\n",
            "4/4 [==============================] - 0s 2ms/step - loss: -1263937.6250 - accuracy: 0.0000e+00\n",
            "Epoch 199/200\n",
            "4/4 [==============================] - 0s 4ms/step - loss: -1284371.6250 - accuracy: 0.0000e+00\n",
            "Epoch 200/200\n",
            "4/4 [==============================] - 0s 3ms/step - loss: -1305064.3750 - accuracy: 0.0000e+00\n"
          ],
          "name": "stdout"
        },
        {
          "output_type": "execute_result",
          "data": {
            "text/plain": [
              "<tensorflow.python.keras.callbacks.History at 0x7fb494a7e4e0>"
            ]
          },
          "metadata": {
            "tags": []
          },
          "execution_count": 13
        }
      ]
    },
    {
      "cell_type": "code",
      "metadata": {
        "id": "lK2xijce-Ps7"
      },
      "source": [
        "y_pred = classifier.predict(X_test)\n",
        "y_pred=(y_pred<1)\n"
      ],
      "execution_count": 26,
      "outputs": []
    },
    {
      "cell_type": "code",
      "metadata": {
        "id": "VFUm5Q2m-Ps9",
        "outputId": "e508a6b7-113b-46fc-ae6b-173ad93db18e",
        "colab": {
          "base_uri": "https://localhost:8080/"
        }
      },
      "source": [
        "print(y_pred)"
      ],
      "execution_count": 27,
      "outputs": [
        {
          "output_type": "stream",
          "text": [
            "[[False]\n",
            " [False]\n",
            " [ True]\n",
            " [False]\n",
            " [False]\n",
            " [False]\n",
            " [False]\n",
            " [False]\n",
            " [ True]\n",
            " [False]\n",
            " [False]\n",
            " [False]\n",
            " [False]\n",
            " [False]\n",
            " [False]\n",
            " [False]\n",
            " [False]\n",
            " [ True]\n",
            " [False]\n",
            " [False]\n",
            " [False]\n",
            " [False]\n",
            " [False]\n",
            " [False]\n",
            " [False]\n",
            " [False]\n",
            " [False]\n",
            " [False]\n",
            " [False]\n",
            " [ True]\n",
            " [ True]\n",
            " [False]\n",
            " [False]\n",
            " [False]\n",
            " [False]\n",
            " [False]\n",
            " [False]\n",
            " [ True]\n",
            " [ True]\n",
            " [False]\n",
            " [ True]\n",
            " [False]\n",
            " [False]\n",
            " [ True]\n",
            " [ True]\n",
            " [False]\n",
            " [False]\n",
            " [False]\n",
            " [ True]\n",
            " [False]\n",
            " [ True]\n",
            " [False]\n",
            " [False]\n",
            " [False]\n",
            " [False]\n",
            " [False]\n",
            " [False]\n",
            " [False]\n",
            " [False]\n",
            " [False]\n",
            " [False]\n",
            " [False]\n",
            " [False]\n",
            " [False]\n",
            " [ True]\n",
            " [False]\n",
            " [False]\n",
            " [False]\n",
            " [False]\n",
            " [False]\n",
            " [False]\n",
            " [False]\n",
            " [False]\n",
            " [False]\n",
            " [False]\n",
            " [False]\n",
            " [False]\n",
            " [ True]\n",
            " [False]\n",
            " [False]\n",
            " [False]\n",
            " [False]\n",
            " [ True]\n",
            " [False]\n",
            " [False]\n",
            " [False]\n",
            " [False]\n",
            " [False]\n",
            " [False]\n",
            " [False]\n",
            " [False]\n",
            " [False]\n",
            " [False]\n",
            " [False]\n",
            " [False]\n",
            " [False]\n",
            " [False]\n",
            " [ True]\n",
            " [False]\n",
            " [False]]\n"
          ],
          "name": "stdout"
        }
      ]
    },
    {
      "cell_type": "code",
      "metadata": {
        "id": "H_510zBJ-PtA",
        "outputId": "2b999f40-1c1a-4791-a13d-786b4b37dfe9",
        "colab": {
          "base_uri": "https://localhost:8080/"
        }
      },
      "source": [
        "y_test"
      ],
      "execution_count": 28,
      "outputs": [
        {
          "output_type": "execute_result",
          "data": {
            "text/plain": [
              "301    42321.56548\n",
              "288    47610.11718\n",
              "376    36367.18452\n",
              "10     59045.51309\n",
              "459    35457.14860\n",
              "          ...     \n",
              "299    63038.20422\n",
              "50     27187.23914\n",
              "466    28463.64326\n",
              "283    29417.64694\n",
              "190    56579.90338\n",
              "Name: Car Purchase Amount, Length: 100, dtype: float64"
            ]
          },
          "metadata": {
            "tags": []
          },
          "execution_count": 28
        }
      ]
    },
    {
      "cell_type": "code",
      "metadata": {
        "id": "mnv1bmaKJvM9",
        "outputId": "955ae347-7802-435e-9e29-f4cc0592db6d",
        "colab": {
          "base_uri": "https://localhost:8080/"
        }
      },
      "source": [
        "from sklearn.metrics import confusion_matrix\n",
        "cm = confusion_matrix(y_pred, y_pred)\n",
        "print(cm)"
      ],
      "execution_count": 35,
      "outputs": [
        {
          "output_type": "stream",
          "text": [
            "[[84  0]\n",
            " [ 0 16]]\n"
          ],
          "name": "stdout"
        }
      ]
    },
    {
      "cell_type": "code",
      "metadata": {
        "id": "S4mRgK6WGPDD",
        "outputId": "f0e62ef0-875c-4030-a4bb-290fdd63402c",
        "colab": {
          "base_uri": "https://localhost:8080/"
        }
      },
      "source": [
        "from sklearn.metrics import accuracy_score\n",
        "accuracy=accuracy_score(y_pred,y_pred)\n",
        "print(accuracy)"
      ],
      "execution_count": 36,
      "outputs": [
        {
          "output_type": "stream",
          "text": [
            "1.0\n"
          ],
          "name": "stdout"
        }
      ]
    }
  ]
}